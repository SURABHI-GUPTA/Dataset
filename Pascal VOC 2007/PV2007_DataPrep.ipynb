{
  "nbformat": 4,
  "nbformat_minor": 0,
  "metadata": {
    "colab": {
      "name": "PV2007_DataPrep.ipynb",
      "provenance": [],
      "collapsed_sections": []
    },
    "kernelspec": {
      "name": "python3",
      "display_name": "Python 3"
    }
  },
  "cells": [
    {
      "cell_type": "code",
      "metadata": {
        "id": "oKBt9PCMBuk5",
        "colab_type": "code",
        "colab": {}
      },
      "source": [
        "%matplotlib inline\n",
        "import os \n",
        "import numpy as np\n",
        "import xml.etree.ElementTree as ET\n",
        "from collections import OrderedDict\n",
        "import matplotlib.pyplot as plt\n",
        "import pandas as pd "
      ],
      "execution_count": 0,
      "outputs": []
    },
    {
      "cell_type": "code",
      "metadata": {
        "id": "xRh294qRCDdw",
        "colab_type": "code",
        "outputId": "f0be8cb4-fdb5-4ffa-bc29-8d3764a81861",
        "colab": {
          "base_uri": "https://localhost:8080/",
          "height": 122
        }
      },
      "source": [
        "from google.colab import drive\n",
        "drive.mount('/content/drive')"
      ],
      "execution_count": 2,
      "outputs": [
        {
          "output_type": "stream",
          "text": [
            "Go to this URL in a browser: https://accounts.google.com/o/oauth2/auth?client_id=947318989803-6bn6qk8qdgf4n4g3pfee6491hc0brc4i.apps.googleusercontent.com&redirect_uri=urn%3aietf%3awg%3aoauth%3a2.0%3aoob&response_type=code&scope=email%20https%3a%2f%2fwww.googleapis.com%2fauth%2fdocs.test%20https%3a%2f%2fwww.googleapis.com%2fauth%2fdrive%20https%3a%2f%2fwww.googleapis.com%2fauth%2fdrive.photos.readonly%20https%3a%2f%2fwww.googleapis.com%2fauth%2fpeopleapi.readonly\n",
            "\n",
            "Enter your authorization code:\n",
            "··········\n",
            "Mounted at /content/drive\n"
          ],
          "name": "stdout"
        }
      ]
    },
    {
      "cell_type": "code",
      "metadata": {
        "id": "JjnWK1oKCDiE",
        "colab_type": "code",
        "colab": {}
      },
      "source": [
        "######## Loading tar file of PASCAL VOC 2007 #########\n",
        "\n",
        "!tar -xf \"/content/drive/My Drive/VOCtrainval_06-Nov-2007.tar\"\n",
        "!tar -xf \"/content/drive/My Drive/VOCtest_06-Nov-2007.tar\""
      ],
      "execution_count": 0,
      "outputs": []
    },
    {
      "cell_type": "code",
      "metadata": {
        "id": "7RZFluGBCDk2",
        "colab_type": "code",
        "colab": {}
      },
      "source": [
        "####### Converting Data into Pandas DataFrame #########\n",
        "\n",
        "dir_anno = \"/content/VOCdevkit/VOC2007/Annotations\"\n",
        "\n",
        "def extract_single_xml_file(tree):\n",
        "    Nobj = 0\n",
        "    row  = OrderedDict()\n",
        "    for elems in tree.iter():\n",
        "\n",
        "        if elems.tag == \"size\":\n",
        "            for elem in elems:\n",
        "                row[elem.tag] = int(elem.text)\n",
        "        if elems.tag == \"object\":\n",
        "            for elem in elems:\n",
        "                if elem.tag == \"name\":\n",
        "                    row[\"bbx_{}_{}\".format(Nobj,elem.tag)] = str(elem.text)            \n",
        "                if elem.tag == \"bndbox\":\n",
        "                    for k in elem:\n",
        "                        row[\"bbx_{}_{}\".format(Nobj,k.tag)] = float(k.text)\n",
        "                    Nobj += 1\n",
        "    row[\"Nobj\"] = Nobj\n",
        "    return(row)\n",
        "\n",
        "df_anno = []\n",
        "for fnm in os.listdir(dir_anno):  \n",
        "    if not fnm.startswith('.'):          # do not include hidden folders/files\n",
        "        tree = ET.parse(os.path.join(dir_anno,fnm))\n",
        "        row = extract_single_xml_file(tree)\n",
        "        row[\"fileID\"] = fnm.split(\".\")[0] # + '.jpg'  \n",
        "        df_anno.append(row)\n",
        "df_anno = pd.DataFrame(df_anno)\n",
        "\n",
        "maxNobj = np.max(df_anno[\"Nobj\"])\n",
        "\n",
        "df_anno.to_csv(\"/content/VOCdevkit/VOC2007/df_anno.csv\")"
      ],
      "execution_count": 0,
      "outputs": []
    },
    {
      "cell_type": "code",
      "metadata": {
        "id": "73G4ebMdCDnL",
        "colab_type": "code",
        "colab": {}
      },
      "source": [
        "####### Select the ones you want and add extra column 'partition' ########\n",
        "\n",
        "df_anno = df_anno[['fileID','bbx_0_name']]\n",
        "df_anno = df_anno.sort_values(['fileID'])\n",
        "df_anno['partition'] = ''"
      ],
      "execution_count": 0,
      "outputs": []
    },
    {
      "cell_type": "code",
      "metadata": {
        "id": "GuaPfj07CDpz",
        "colab_type": "code",
        "outputId": "1737d162-c822-4c99-9524-ca3381ff532a",
        "colab": {
          "base_uri": "https://localhost:8080/",
          "height": 357
        }
      },
      "source": [
        "####### Preparing training csv file ########\n",
        "\n",
        "''' train = 0\n",
        "    valid = 1\n",
        "    test = 2 '''\n",
        "\n",
        "classes = ('person', 'chair', 'car', 'dog', 'bottle', 'cat', 'bird', 'pottedplant', 'sheep', 'boat', 'aeroplane', 'tvmonitor', 'sofa', 'bicycle', 'horse'\n",
        ",'motorbike', 'diningtable', 'cow', 'train', 'bus')\n",
        "\n",
        "for c in range(20):\n",
        "\n",
        "    df1 = pd.read_csv('/content/VOCdevkit/VOC2007/ImageSets/Main/{}_train.txt'.format(classes[c]), sep=\"\\s+\", dtype=str, header=None)\n",
        "    df1 = df1.drop(df1.columns[[1]], axis=1)\n",
        "\n",
        "    for i in range(df1.size):\n",
        "        for j in range(9963):\n",
        "            if df_anno.loc[j,'fileID'] == df1.loc[i,0]:\n",
        "              df_anno.loc[j,'partition'] = 0\n",
        "              break\n",
        "    print(classes[c] + \" --> Done!\")  \n",
        "\n",
        "df_anno.loc[df_anno['partition'] == 0].to_csv('/content/VOCdevkit/VOC2007/pascalvoc-2007-train.csv')"
      ],
      "execution_count": 0,
      "outputs": [
        {
          "output_type": "stream",
          "text": [
            "person --> Done!\n",
            "chair --> Done!\n",
            "car --> Done!\n",
            "dog --> Done!\n",
            "bottle --> Done!\n",
            "cat --> Done!\n",
            "bird --> Done!\n",
            "pottedplant --> Done!\n",
            "sheep --> Done!\n",
            "boat --> Done!\n",
            "aeroplane --> Done!\n",
            "tvmonitor --> Done!\n",
            "sofa --> Done!\n",
            "bicycle --> Done!\n",
            "horse --> Done!\n",
            "motorbike --> Done!\n",
            "diningtable --> Done!\n",
            "cow --> Done!\n",
            "train --> Done!\n",
            "bus --> Done!\n"
          ],
          "name": "stdout"
        }
      ]
    },
    {
      "cell_type": "code",
      "metadata": {
        "id": "XhswzRRrGdYv",
        "colab_type": "code",
        "outputId": "ec1c6266-b020-4ba5-a2e4-ca99659426b9",
        "colab": {
          "base_uri": "https://localhost:8080/",
          "height": 357
        }
      },
      "source": [
        "####### Preparing validation csv file ########\n",
        "\n",
        "''' train = 0\n",
        "    valid = 1\n",
        "    test = 2 '''\n",
        "\n",
        "classes = ('person', 'chair', 'car', 'dog', 'bottle', 'cat', 'bird', 'pottedplant', 'sheep', 'boat', 'aeroplane', 'tvmonitor', 'sofa', 'bicycle', 'horse'\n",
        ",'motorbike', 'diningtable', 'cow', 'train', 'bus')\n",
        "\n",
        "for c in range(20):\n",
        "\n",
        "    df1 = pd.read_csv('/content/VOCdevkit/VOC2007/ImageSets/Main/{}_val.txt'.format(classes[c]), sep=\"\\s+\", dtype=str, header=None)\n",
        "    df1 = df1.drop(df1.columns[[1]], axis=1)\n",
        "\n",
        "    for i in range(df1.size):\n",
        "        for j in range(9963):\n",
        "            if df_anno.loc[j,'fileID'] == df1.loc[i,0]:\n",
        "              df_anno.loc[j,'partition'] = 1\n",
        "              break\n",
        "    print(classes[c] + \" --> Done!\")         \n",
        "\n",
        "df_anno.loc[df_anno['partition'] == 1].to_csv('/content/VOCdevkit/VOC2007/pascalvoc-2007-val.csv')    "
      ],
      "execution_count": 0,
      "outputs": [
        {
          "output_type": "stream",
          "text": [
            "person --> Done!\n",
            "chair --> Done!\n",
            "car --> Done!\n",
            "dog --> Done!\n",
            "bottle --> Done!\n",
            "cat --> Done!\n",
            "bird --> Done!\n",
            "pottedplant --> Done!\n",
            "sheep --> Done!\n",
            "boat --> Done!\n",
            "aeroplane --> Done!\n",
            "tvmonitor --> Done!\n",
            "sofa --> Done!\n",
            "bicycle --> Done!\n",
            "horse --> Done!\n",
            "motorbike --> Done!\n",
            "diningtable --> Done!\n",
            "cow --> Done!\n",
            "train --> Done!\n",
            "bus --> Done!\n"
          ],
          "name": "stdout"
        }
      ]
    },
    {
      "cell_type": "code",
      "metadata": {
        "id": "n91UY9jvGkir",
        "colab_type": "code",
        "outputId": "7144dca5-29ab-40b1-fd2d-9ae2b5ae3cba",
        "colab": {
          "base_uri": "https://localhost:8080/",
          "height": 357
        }
      },
      "source": [
        "####### Preparing test csv file ########\n",
        "\n",
        "''' train = 0\n",
        "    valid = 1\n",
        "    test = 2 '''\n",
        "\n",
        "classes = ('person', 'chair', 'car', 'dog', 'bottle', 'cat', 'bird', 'pottedplant', 'sheep', 'boat', 'aeroplane', 'tvmonitor', 'sofa', 'bicycle', 'horse'\n",
        ",'motorbike', 'diningtable', 'cow', 'train', 'bus')\n",
        "\n",
        "for c in range(20):\n",
        "\n",
        "    df1 = pd.read_csv('/content/VOCdevkit/VOC2007/ImageSets/Main/{}_test.txt'.format(classes[c]), sep=\"\\s+\", dtype=str, header=None)\n",
        "    df1 = df1.drop(df1.columns[[1]], axis=1)\n",
        "\n",
        "    for i in range(df1.size):\n",
        "        for j in range(9963):\n",
        "            if df_anno.loc[j,'fileID'] == df1.loc[i,0]:\n",
        "              df_anno.loc[j,'partition'] = 2\n",
        "              break\n",
        "    print(classes[c] + \" --> Done!\")    \n",
        "\n",
        "df_anno.loc[df_anno['partition'] == 2].to_csv('/content/VOCdevkit/VOC2007/pascalvoc-2007-test.csv')    "
      ],
      "execution_count": 0,
      "outputs": [
        {
          "output_type": "stream",
          "text": [
            "person --> Done!\n",
            "chair --> Done!\n",
            "car --> Done!\n",
            "dog --> Done!\n",
            "bottle --> Done!\n",
            "cat --> Done!\n",
            "bird --> Done!\n",
            "pottedplant --> Done!\n",
            "sheep --> Done!\n",
            "boat --> Done!\n",
            "aeroplane --> Done!\n",
            "tvmonitor --> Done!\n",
            "sofa --> Done!\n",
            "bicycle --> Done!\n",
            "horse --> Done!\n",
            "motorbike --> Done!\n",
            "diningtable --> Done!\n",
            "cow --> Done!\n",
            "train --> Done!\n",
            "bus --> Done!\n"
          ],
          "name": "stdout"
        }
      ]
    },
    {
      "cell_type": "code",
      "metadata": {
        "id": "HIbS28gJa7yQ",
        "colab_type": "code",
        "colab": {
          "base_uri": "https://localhost:8080/",
          "height": 255
        },
        "outputId": "7654da6c-55ea-467f-f687-be08661576ab"
      },
      "source": [
        "######## final csv file for train, val and test ##########\n",
        "\n",
        "df = pd.read_csv('/content/VOCdevkit/VOC2007/pascalvoc-2007-test.csv', dtype = str)\n",
        "col = [0,3]\n",
        "df = df.drop(df.columns[col], axis = 1)\n",
        "print(df)\n"
      ],
      "execution_count": 44,
      "outputs": [
        {
          "output_type": "stream",
          "text": [
            "      fileID   bbx_0_name\n",
            "0     000001          dog\n",
            "1     000002        train\n",
            "2     000003         sofa\n",
            "3     000004          car\n",
            "4     000006  pottedplant\n",
            "...      ...          ...\n",
            "4947  009956          cat\n",
            "4948  009957       person\n",
            "4949  009960    motorbike\n",
            "4950  009962        chair\n",
            "4951  009963          car\n",
            "\n",
            "[4952 rows x 2 columns]\n"
          ],
          "name": "stdout"
        }
      ]
    },
    {
      "cell_type": "code",
      "metadata": {
        "id": "rN60ghDaGTm-",
        "colab_type": "code",
        "colab": {
          "base_uri": "https://localhost:8080/",
          "height": 136
        },
        "outputId": "fd83f8ee-8ccf-470b-b1c9-fa12c37cca50"
      },
      "source": [
        "classes = ('person', 'chair', 'car', 'dog', 'bottle', 'cat', 'bird', 'pottedplant', 'sheep', 'boat', 'aeroplane', 'tvmonitor', 'sofa', 'bicycle', 'horse'\n",
        ",'motorbike', 'diningtable', 'cow', 'train', 'bus')\n",
        "\n",
        "for i in range(20):\n",
        "    df.loc[df['bbx_0_name'] == classes[i], 'bbx_0_name'] = i\n",
        "\n",
        "for i in range(2510):\n",
        "    df.iloc[i]['fileID'] = df.iloc[i]['fileID']  + '.jpg'\n",
        "\n",
        "print(\"After conversion \\n\", df.head(5))\n",
        "\n",
        "df.to_csv(\"/content/VOCdevkit/VOC2007/pascalvoc-2007-test-final.csv\")\n"
      ],
      "execution_count": 45,
      "outputs": [
        {
          "output_type": "stream",
          "text": [
            "After conversion \n",
            "        fileID bbx_0_name\n",
            "0  000001.jpg          3\n",
            "1  000002.jpg         18\n",
            "2  000003.jpg         12\n",
            "3  000004.jpg          2\n",
            "4  000006.jpg          7\n"
          ],
          "name": "stdout"
        }
      ]
    }
  ]
}
